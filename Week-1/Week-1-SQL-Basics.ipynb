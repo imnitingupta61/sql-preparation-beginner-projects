{
 "cells": [
  {
   "cell_type": "code",
   "execution_count": 1,
   "id": "73858ff4",
   "metadata": {},
   "outputs": [],
   "source": [
    "import sqlite3   #import sql library"
   ]
  },
  {
   "cell_type": "code",
   "execution_count": 2,
   "id": "38f2b089",
   "metadata": {},
   "outputs": [],
   "source": [
    "con =  sqlite3.connect('employees_database.db')  #Create connection & create new database"
   ]
  },
  {
   "cell_type": "code",
   "execution_count": 3,
   "id": "9488182e",
   "metadata": {},
   "outputs": [],
   "source": [
    "cur=  con.cursor() #create a cursor object"
   ]
  },
  {
   "cell_type": "code",
   "execution_count": 4,
   "id": "840a18f8",
   "metadata": {},
   "outputs": [],
   "source": [
    "# Creating a new table employees in employees_Database"
   ]
  },
  {
   "cell_type": "code",
   "execution_count": 5,
   "id": "b822eb52",
   "metadata": {},
   "outputs": [
    {
     "data": {
      "text/plain": [
       "<sqlite3.Cursor at 0x1a22b3100c0>"
      ]
     },
     "execution_count": 5,
     "metadata": {},
     "output_type": "execute_result"
    }
   ],
   "source": [
    "cur.execute(\"Create table employees(id int primary key, name text, age int,department text, salary int, join_year  int)\")"
   ]
  },
  {
   "cell_type": "code",
   "execution_count": 6,
   "id": "d4be3114",
   "metadata": {},
   "outputs": [],
   "source": [
    "#Insert values in table employees"
   ]
  },
  {
   "cell_type": "code",
   "execution_count": 7,
   "id": "1d1f76dd",
   "metadata": {},
   "outputs": [
    {
     "name": "stdout",
     "output_type": "stream",
     "text": [
      "5 Record(s) inserted\n"
     ]
    }
   ],
   "source": [
    "cur.execute('insert into employees values(101,\"Tasha\",22,\"Operations\",38000,2006), (102,\"Rayane\",24,\"Operations\",34000,2008),(103,\"Deidria\",32,\"TL\",65000,2001), (104,\"Mitzi\",30,\"HR\",78000,2009),(105,\"Dan\",52,\"Manager\",108000,2004) ')\n",
    "con.commit()\n",
    "print(cur.rowcount,\"Record(s) inserted\")"
   ]
  },
  {
   "cell_type": "code",
   "execution_count": 8,
   "id": "f5caa3e8",
   "metadata": {},
   "outputs": [],
   "source": [
    "#Output Results as per queries for printing table of all employees from employees table"
   ]
  },
  {
   "cell_type": "code",
   "execution_count": 9,
   "id": "025ce2e6",
   "metadata": {},
   "outputs": [
    {
     "data": {
      "text/plain": [
       "[(101, 'Tasha', 22, 'Operations', 38000, 2006),\n",
       " (102, 'Rayane', 24, 'Operations', 34000, 2008),\n",
       " (103, 'Deidria', 32, 'TL', 65000, 2001),\n",
       " (104, 'Mitzi', 30, 'HR', 78000, 2009),\n",
       " (105, 'Dan', 52, 'Manager', 108000, 2004)]"
      ]
     },
     "execution_count": 9,
     "metadata": {},
     "output_type": "execute_result"
    }
   ],
   "source": [
    "result= cur.execute('Select * from employees')\n",
    "result.fetchall()"
   ]
  },
  {
   "cell_type": "code",
   "execution_count": 10,
   "id": "15427c9c",
   "metadata": {},
   "outputs": [
    {
     "data": {
      "text/plain": [
       "[(104, 'Mitzi', 30, 'HR', 78000, 2009)]"
      ]
     },
     "execution_count": 10,
     "metadata": {},
     "output_type": "execute_result"
    }
   ],
   "source": [
    "#Using WHERE Clause\n",
    "\n",
    "result1= cur.execute(\"Select * from employees WHERE department='HR'\")\n",
    "result1.fetchall()"
   ]
  },
  {
   "cell_type": "code",
   "execution_count": 14,
   "id": "54dcc54c",
   "metadata": {},
   "outputs": [
    {
     "data": {
      "text/plain": [
       "[('Deidria', 65000), ('Mitzi', 78000), ('Dan', 108000)]"
      ]
     },
     "execution_count": 14,
     "metadata": {},
     "output_type": "execute_result"
    }
   ],
   "source": [
    "result2= cur.execute('select name,salary from employees WHERE salary > 50000')\n",
    "result2.fetchall()"
   ]
  },
  {
   "cell_type": "code",
   "execution_count": 15,
   "id": "6ed39cb1",
   "metadata": {},
   "outputs": [
    {
     "data": {
      "text/plain": [
       "[(101, 'Tasha', 22, 'Operations', 38000, 2006),\n",
       " (102, 'Rayane', 24, 'Operations', 34000, 2008)]"
      ]
     },
     "execution_count": 15,
     "metadata": {},
     "output_type": "execute_result"
    }
   ],
   "source": [
    "result3= cur.execute('select * from employees WHERE age < 25 AND department= \"Operations\"')\n",
    "result3.fetchall()"
   ]
  },
  {
   "cell_type": "code",
   "execution_count": 16,
   "id": "4fb64182",
   "metadata": {},
   "outputs": [],
   "source": [
    "#Using Orderby Clause"
   ]
  },
  {
   "cell_type": "code",
   "execution_count": 17,
   "id": "d78f8174",
   "metadata": {},
   "outputs": [
    {
     "data": {
      "text/plain": [
       "[(105, 'Dan', 52, 'Manager', 108000, 2004),\n",
       " (103, 'Deidria', 32, 'TL', 65000, 2001),\n",
       " (104, 'Mitzi', 30, 'HR', 78000, 2009),\n",
       " (102, 'Rayane', 24, 'Operations', 34000, 2008),\n",
       " (101, 'Tasha', 22, 'Operations', 38000, 2006)]"
      ]
     },
     "execution_count": 17,
     "metadata": {},
     "output_type": "execute_result"
    }
   ],
   "source": [
    "result= cur.execute('select * from employees ORDER BY name asc ')\n",
    "result.fetchall()"
   ]
  },
  {
   "cell_type": "code",
   "execution_count": 19,
   "id": "4385f7bc",
   "metadata": {},
   "outputs": [
    {
     "data": {
      "text/plain": [
       "[('Dan',), ('Mitzi',), ('Deidria',), ('Tasha',), ('Rayane',)]"
      ]
     },
     "execution_count": 19,
     "metadata": {},
     "output_type": "execute_result"
    }
   ],
   "source": [
    "result1= cur.execute('select name from employees ORDER BY salary DESC ')\n",
    "result1.fetchall()"
   ]
  },
  {
   "cell_type": "code",
   "execution_count": 20,
   "id": "cf01af5d",
   "metadata": {},
   "outputs": [],
   "source": [
    "#Using Aggregate functions"
   ]
  },
  {
   "cell_type": "code",
   "execution_count": 21,
   "id": "9b64587f",
   "metadata": {},
   "outputs": [
    {
     "data": {
      "text/plain": [
       "(108000,)"
      ]
     },
     "execution_count": 21,
     "metadata": {},
     "output_type": "execute_result"
    }
   ],
   "source": [
    "result= cur.execute(\"Select max(salary) from employees \")\n",
    "result.fetchone()"
   ]
  },
  {
   "cell_type": "code",
   "execution_count": null,
   "id": "89161733",
   "metadata": {},
   "outputs": [],
   "source": []
  }
 ],
 "metadata": {
  "kernelspec": {
   "display_name": "Python 3 (ipykernel)",
   "language": "python",
   "name": "python3"
  },
  "language_info": {
   "codemirror_mode": {
    "name": "ipython",
    "version": 3
   },
   "file_extension": ".py",
   "mimetype": "text/x-python",
   "name": "python",
   "nbconvert_exporter": "python",
   "pygments_lexer": "ipython3",
   "version": "3.10.9"
  }
 },
 "nbformat": 4,
 "nbformat_minor": 5
}
